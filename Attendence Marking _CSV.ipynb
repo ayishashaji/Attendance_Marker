{
 "cells": [
  {
   "cell_type": "code",
   "execution_count": 70,
   "metadata": {},
   "outputs": [],
   "source": [
    "import cv2\n",
    "import face_recognition\n",
    "import csv\n",
    "import datetime\n",
    "import os"
   ]
  },
  {
   "cell_type": "code",
   "execution_count": 71,
   "metadata": {},
   "outputs": [],
   "source": [
    "#taking image from csv file\n",
    "def load_known_faces(csv_file):\n",
    "    known_faces = []\n",
    "    known_names = []\n",
    "\n",
    "    with open(csv_file, 'r') as file:\n",
    "        reader = csv.reader(file)\n",
    "        next(reader)  # Skip header row\n",
    "\n",
    "        for row in reader:\n",
    "            name, image_path = row\n",
    "            known_names.append(name)\n",
    "            image = face_recognition.load_image_file(image_path)\n",
    "            face_encoding = face_recognition.face_encodings(image)[0]\n",
    "            known_faces.append(face_encoding)\n",
    "\n",
    "    return known_faces, known_names      "
   ]
  },
  {
   "cell_type": "code",
   "execution_count": 72,
   "metadata": {},
   "outputs": [],
   "source": [
    "# csv_read_path = 'data.csv'\n",
    "# loaded_known_faces ,loaded_known_names  = load_known_faces(csv_read_path)\n",
    "\n",
    "# print(\"Loaded Known Faces:\")\n",
    "# print(loaded_known_faces)\n",
    "# print(\"\\nLoaded Known Names:\")\n",
    "# print(loaded_known_names)"
   ]
  },
  {
   "cell_type": "code",
   "execution_count": 73,
   "metadata": {},
   "outputs": [],
   "source": [
    "# # writing to csv\n",
    "# def write_to_csv(name, current_time):\n",
    "#     if name != \"Unknown\":\n",
    "#         csv_file_path = 'attendance.csv'\n",
    "\n",
    "#         is_empty = os.stat(csv_file_path).st_size == 0\n",
    "\n",
    "#         with open(csv_file_path, 'a', newline='') as file:\n",
    "#             writer = csv.writer(file)\n",
    "\n",
    "#             if is_empty:\n",
    "#                 writer.writerow(['Name', 'Time'])\n",
    "\n",
    "#             writer.writerow([name, current_time])   \n",
    "\n",
    "# # Example usage:\n",
    "# name = \"John Doe\"\n",
    "# current_time = datetime.datetime.now().strftime('%H:%M:%S')\n",
    "\n",
    "\n",
    "# write_to_csv(name, current_time)"
   ]
  },
  {
   "cell_type": "code",
   "execution_count": 84,
   "metadata": {},
   "outputs": [],
   "source": [
    "# writing to csv without duplicates for a specific date\n",
    "\n",
    "def write_to_csv(name, current_time, current_date):\n",
    "    if name != \"Unknown\":\n",
    "        csv_file_path = 'attendance.csv'\n",
    "\n",
    "        # Check if the data already exists in the CSV for the current date\n",
    "        with open(csv_file_path, 'r') as file:\n",
    "            reader = csv.reader(file)\n",
    "            next(reader, None)  # Skip the header row\n",
    "            existing_data = any(len(row) >= 3 and row[0] == name and row[2] == current_date for row in reader)\n",
    "\n",
    "        # If data doesn't exist, append it\n",
    "        if not existing_data:\n",
    "            with open(csv_file_path, 'a', newline='') as file:\n",
    "                writer = csv.writer(file)\n",
    "\n",
    "                # If the file is empty, write the header\n",
    "                if os.stat(csv_file_path).st_size == 0:\n",
    "                    writer.writerow(['Name', 'Time', 'Date'])\n",
    "\n",
    "                writer.writerow([name, current_time, current_date])\n",
    "\n",
    "# # Example :\n",
    "# name = \"Apple\"\n",
    "# current_time = datetime.datetime.now().strftime('%H:%M:%S')\n",
    "# current_date = datetime.datetime.now().strftime('%Y-%m-%d')\n",
    "\n",
    "# write_to_csv(name, current_time, current_date)\n"
   ]
  },
  {
   "cell_type": "code",
   "execution_count": 76,
   "metadata": {},
   "outputs": [],
   "source": [
    "known_face_encodings, known_face_names = load_known_faces('data.csv')"
   ]
  },
  {
   "cell_type": "code",
   "execution_count": 77,
   "metadata": {},
   "outputs": [],
   "source": [
    "video_capture = cv2.VideoCapture(0)\n",
    "\n",
    "recognized_set = set()\n",
    "\n",
    "while True:\n",
    "    # Capture frame-by-frame\n",
    "    ret, frame = video_capture.read()\n",
    "\n",
    "    # Find all face locations and encodings in the current frame\n",
    "    face_locations = face_recognition.face_locations(frame)\n",
    "    face_encodings = face_recognition.face_encodings(frame, face_locations)\n",
    "\n",
    "    recognized_names = []\n",
    "\n",
    "    for face_encoding in face_encodings:\n",
    "        # Compare face encodings with known faces\n",
    "        matches = face_recognition.compare_faces(known_face_encodings, face_encoding)\n",
    "        name = \"Unknown\"\n",
    "\n",
    "        if True in matches:\n",
    "            matched_index = matches.index(True)\n",
    "            name = known_face_names[matched_index]\n",
    "\n",
    "        recognized_names.append(name)\n",
    "\n",
    "    for name in recognized_names:\n",
    "        if name not in recognized_set:\n",
    "            current_time = datetime.datetime.now().strftime('%H:%M:%S')\n",
    "            current_date = datetime.datetime.now().strftime('%Y-%m-%d')\n",
    "            write_to_csv(name, current_time, current_date)\n",
    "            recognized_set.add(name)\n",
    "\n",
    "    # Display the results\n",
    "    for (top, right, bottom, left), name in zip(face_locations, recognized_names):\n",
    "        cv2.rectangle(frame, (left, top), (right, bottom), (0, 0, 255), 2)\n",
    "        cv2.rectangle(frame, (left, bottom - 35), (right, bottom), (0, 0, 255), cv2.FILLED)\n",
    "        cv2.putText(frame, name, (left + 6, bottom - 6), cv2.FONT_HERSHEY_SIMPLEX, 1.0, (255, 255, 255), 1)\n",
    "\n",
    "    # Display the resulting frame\n",
    "    cv2.imshow('Video', frame)\n",
    "\n",
    "    # Break the loop if 'q' is pressed\n",
    "    if cv2.waitKey(1) & 0xFF == ord('q'):\n",
    "        break\n",
    "\n",
    "# Release the camera and close all windows\n",
    "video_capture.release()\n",
    "cv2.destroyAllWindows()"
   ]
  }
 ],
 "metadata": {
  "kernelspec": {
   "display_name": "Python 3",
   "language": "python",
   "name": "python3"
  },
  "language_info": {
   "codemirror_mode": {
    "name": "ipython",
    "version": 3
   },
   "file_extension": ".py",
   "mimetype": "text/x-python",
   "name": "python",
   "nbconvert_exporter": "python",
   "pygments_lexer": "ipython3",
   "version": "3.10.2"
  }
 },
 "nbformat": 4,
 "nbformat_minor": 2
}
